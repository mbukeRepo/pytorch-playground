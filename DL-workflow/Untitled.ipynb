{
 "cells": [
  {
   "cell_type": "code",
   "execution_count": 1,
   "id": "fb91fdc3-7cd1-4767-baac-a4af8d6f3426",
   "metadata": {},
   "outputs": [
    {
     "data": {
      "text/plain": [
       "{1: 'Data (prepare and load)',\n",
       " 2: 'build model',\n",
       " 3: 'fitting the model to data',\n",
       " 4: 'making predictions and evaluating a model(inference)',\n",
       " 5: 'saving and loading the model',\n",
       " 6: 'putting all together'}"
      ]
     },
     "execution_count": 1,
     "metadata": {},
     "output_type": "execute_result"
    }
   ],
   "source": [
    "what_were_covering = {\n",
    "    1: \"Data (prepare and load)\",\n",
    "    2: \"build model\",\n",
    "    3: \"fitting the model to data\",\n",
    "    4: \"making predictions and evaluating a model(inference)\",\n",
    "    5: \"saving and loading the model\",\n",
    "    6: \"putting all together\"\n",
    "}\n",
    "what_were_covering"
   ]
  },
  {
   "cell_type": "code",
   "execution_count": 2,
   "id": "8a0f288b-8c70-4fa9-967d-89792f816077",
   "metadata": {},
   "outputs": [],
   "source": [
    "import torch\n",
    "from torch import nn # contains all the building blocks for neural networks"
   ]
  },
  {
   "cell_type": "markdown",
   "id": "4cfe5a32-369d-4971-a3f1-5e95ccaa2d93",
   "metadata": {},
   "source": [
    "**1. Data (preparing and loading data)**"
   ]
  },
  {
   "cell_type": "markdown",
   "id": "333a2e75-b4bf-4830-853b-cfa4656255e7",
   "metadata": {},
   "source": [
    "Data can be almost anything:\n",
    " - Excel spreadsheet\n",
    " - Images of any kind\n",
    " - Videos (Youtube videos)\n",
    " - Audio like songs and podcasts\n",
    " - DNA pattens\n",
    " - Text"
   ]
  },
  {
   "cell_type": "markdown",
   "id": "49121cb2-c294-4533-a0ca-bbf92d1159a0",
   "metadata": {},
   "source": [
    "Machine learning is a game of two parts:\n",
    " - Get data into a numerical representation\n",
    " - build a model to learn patterns in that numerical representation"
   ]
  },
  {
   "cell_type": "markdown",
   "id": "a063905e-62cb-4d53-a0e7-a9a9384f0dc5",
   "metadata": {},
   "source": [
    "**Simple regression model**"
   ]
  },
  {
   "cell_type": "code",
   "execution_count": 3,
   "id": "d5ac5676-63f6-48c8-9f08-98511e6cd156",
   "metadata": {},
   "outputs": [
    {
     "data": {
      "text/plain": [
       "(tensor([[0.0000],\n",
       "         [0.0200],\n",
       "         [0.0400],\n",
       "         [0.0600],\n",
       "         [0.0800],\n",
       "         [0.1000],\n",
       "         [0.1200],\n",
       "         [0.1400],\n",
       "         [0.1600],\n",
       "         [0.1800]]),\n",
       " tensor([[0.3000],\n",
       "         [0.3140],\n",
       "         [0.3280],\n",
       "         [0.3420],\n",
       "         [0.3560],\n",
       "         [0.3700],\n",
       "         [0.3840],\n",
       "         [0.3980],\n",
       "         [0.4120],\n",
       "         [0.4260]]),\n",
       " 50,\n",
       " 50)"
      ]
     },
     "execution_count": 3,
     "metadata": {},
     "output_type": "execute_result"
    }
   ],
   "source": [
    "weight = 0.7\n",
    "bias = 0.3\n",
    "# create\n",
    "start = 0\n",
    "end = 1\n",
    "step = 0.02\n",
    "X = torch.arange(start, end, step).unsqueeze(dim=1)\n",
    "y = weight * X + bias\n",
    "X[:10], y[:10], len(X), len(y)"
   ]
  },
  {
   "cell_type": "code",
   "execution_count": 4,
   "id": "1e23056d-2863-4786-9a89-6182aba8b412",
   "metadata": {},
   "outputs": [],
   "source": [
    "## splitting the data into training and testing\n",
    "train_split = int(0.8 * len(X))\n",
    "X_train, y_train = X[:train_split], y[:train_split]\n",
    "X_test, y_test = X[train_split:], y[train_split:]"
   ]
  },
  {
   "cell_type": "code",
   "execution_count": 5,
   "id": "dc14620e-a56f-473c-94b1-d2797758d1a6",
   "metadata": {},
   "outputs": [
    {
     "data": {
      "text/plain": [
       "(10, 10, 40, 40)"
      ]
     },
     "execution_count": 5,
     "metadata": {},
     "output_type": "execute_result"
    }
   ],
   "source": [
    "len(X_test), len(y_test), len(X_train), len(y_train)"
   ]
  },
  {
   "cell_type": "code",
   "execution_count": 6,
   "id": "0bf59502-dbbe-4048-8019-2f91d1f0025c",
   "metadata": {},
   "outputs": [],
   "source": [
    "import matplotlib.pyplot as plt"
   ]
  },
  {
   "cell_type": "code",
   "execution_count": 7,
   "id": "2f2a5918-7f59-4b0e-a037-cf59e492a736",
   "metadata": {},
   "outputs": [],
   "source": [
    "def plot_predictions(train_data = X_train, \n",
    "                     train_labels = y_train, \n",
    "                     test_data = X_test, \n",
    "                     test_labels = y_test,\n",
    "                     predictions = None):\n",
    "    plt.figure(figsize=(10, 7))\n",
    "    plt.scatter(train_data, train_labels, c=\"b\", s=4, label=\"Training data\")\n",
    "    plt.scatter(test_data, test_labels, c=\"g\", s=4, label=\"Testing data\")\n",
    "    if predictions is not None:\n",
    "        plt.scatter(test_data, predictions, c=\"r\", s=4, label=\"Predictions\")\n",
    "    # show legend\n",
    "    plt.legend(prop={\"size\": 14})"
   ]
  },
  {
   "cell_type": "code",
   "execution_count": 8,
   "id": "b5683a78-5c31-429c-8744-b67ea2bf9621",
   "metadata": {},
   "outputs": [
    {
     "data": {
      "image/png": "[encoded data removed]",
      "text/plain": [
       "<Figure size 1000x700 with 1 Axes>"
      ]
     },
     "metadata": {},
     "output_type": "display_data"
    }
   ],
   "source": [
    "plot_predictions()"
   ]
  },
  {
   "cell_type": "markdown",
   "id": "0626b356-82e1-439b-ac4d-4b309b74fb07",
   "metadata": {},
   "source": [
    "**Building first pytorch module**\n",
    "\n",
    "Our first pytorch model!"
   ]
  },
  {
   "cell_type": "code",
   "execution_count": 9,
   "id": "a4c27801-c278-423f-b5a4-8326fc96cdf5",
   "metadata": {},
   "outputs": [],
   "source": [
    "class LinearRegressionModel(nn.Module):\n",
    "    def __init__(self):\n",
    "        super().__init__()\n",
    "        self.weights = nn.Parameter(torch.randn(1))\n",
    "        self.bias = nn.Parameter(torch.randn(1)) \n",
    "        \n",
    "    def forward(self, x: torch.Tensor)->torch.Tensor:\n",
    "        return self.weights * x + self.bias\n",
    "            "
   ]
  },
  {
   "cell_type": "markdown",
   "id": "073378be-8124-47e9-92fb-4c7afddac440",
   "metadata": {},
   "source": [
    " **Pytorch model building essentials**"
   ]
  },
  {
   "cell_type": "markdown",
   "id": "b15ec260-348c-415d-8f0c-5369fafd6487",
   "metadata": {},
   "source": [
    "- torch.nn - Containing all the building blocks (computational graphs)\n",
    "- torch.nn.Parameter - what parameters should our model try to learn, often Pytorch layer from torch.nn will set them for us\n",
    "- torch.nn.Module the base class for building models\n",
    "- torch.optim - this is where the optimizers in Pytorch live, they will help \n",
    "with gradient decent\n",
    "- def forward() - all nn.Module subclasses requie you to overwrite forward\n",
    "which is the activation function"
   ]
  },
  {
   "cell_type": "markdown",
   "id": "a5f46003-a7af-4a4c-ab7f-8f65124d3669",
   "metadata": {},
   "source": [
    "Now we've created a model, let's see what's inside ouir model .parameters()"
   ]
  },
  {
   "cell_type": "code",
   "execution_count": 10,
   "id": "041c02c0-009f-4466-ae66-21c5edb5bf8f",
   "metadata": {},
   "outputs": [
    {
     "data": {
      "text/plain": [
       "[Parameter containing:\n",
       " tensor([0.3367], requires_grad=True),\n",
       " Parameter containing:\n",
       " tensor([0.1288], requires_grad=True)]"
      ]
     },
     "execution_count": 10,
     "metadata": {},
     "output_type": "execute_result"
    }
   ],
   "source": [
    "# create a random seed\n",
    "torch.manual_seed(42)\n",
    "model_0 = LinearRegressionModel()\n",
    "list(model_0.parameters())"
   ]
  },
  {
   "cell_type": "code",
   "execution_count": 11,
   "id": "ade7ae9c-63aa-4e14-8a00-1d23d96fdf55",
   "metadata": {},
   "outputs": [
    {
     "data": {
      "text/plain": [
       "OrderedDict([('weights', tensor([0.3367])), ('bias', tensor([0.1288]))])"
      ]
     },
     "execution_count": 11,
     "metadata": {},
     "output_type": "execute_result"
    }
   ],
   "source": [
    "model_0.state_dict()"
   ]
  },
  {
   "cell_type": "code",
   "execution_count": 12,
   "id": "f4020c55-83b6-4347-b853-7e037bdd5329",
   "metadata": {},
   "outputs": [
    {
     "data": {
      "text/plain": [
       "(0.7, 0.3)"
      ]
     },
     "execution_count": 12,
     "metadata": {},
     "output_type": "execute_result"
    }
   ],
   "source": [
    "weight, bias"
   ]
  },
  {
   "cell_type": "markdown",
   "id": "492d2abd-eab5-4176-a6c6-40a3b013573d",
   "metadata": {},
   "source": [
    "**Making prediction using torch.inference_mode()**\n",
    "\n",
    "To check our model's predictive power, let's see how well it predicts\n",
    "y_test based on X_test.\n",
    "When we pass data through our mode, it's going to run it through the forward \n",
    "method."
   ]
  },
  {
   "cell_type": "code",
   "execution_count": 13,
   "id": "ba550e24-cbac-4dee-aa33-d2175c3d7009",
   "metadata": {},
   "outputs": [
    {
     "data": {
      "text/plain": [
       "tensor([[0.3982],\n",
       "        [0.4049],\n",
       "        [0.4116],\n",
       "        [0.4184],\n",
       "        [0.4251],\n",
       "        [0.4318],\n",
       "        [0.4386],\n",
       "        [0.4453],\n",
       "        [0.4520],\n",
       "        [0.4588]])"
      ]
     },
     "execution_count": 13,
     "metadata": {},
     "output_type": "execute_result"
    }
   ],
   "source": [
    "with torch.inference_mode():\n",
    "    y_preds = model_0(X_test)\n",
    "y_preds"
   ]
  },
  {
   "cell_type": "code",
   "execution_count": 14,
   "id": "d495e39f-6781-47cc-84bd-eb46a840baef",
   "metadata": {},
   "outputs": [
    {
     "data": {
      "image/png": "[encoded data removed]",
      "text/plain": [
       "<Figure size 1000x700 with 1 Axes>"
      ]
     },
     "metadata": {},
     "output_type": "display_data"
    }
   ],
   "source": [
    "plot_predictions(predictions=y_preds)"
   ]
  },
  {
   "cell_type": "markdown",
   "id": "087eae70-e223-4c17-9c98-57d202ef2b41",
   "metadata": {},
   "source": [
    "**Train a model**\n",
    "\n",
    "The whole idea of training is for a model to move from some **unknown**\n",
    "parameters(these may be random) to some *known* parameters.\n",
    "\n",
    "Or in other workds from poor representation of data to a better representation\n",
    "of the data.\n",
    "\n",
    "One way to measure how poor or how wrong your models predictions are is to use\n",
    "a loss function.\n",
    "\n",
    "* **Loss function:**  A function to measure how wrong your model's predictions are to the ideal outputs\n",
    "\n",
    "* **Optimizer:** Takes into account the loss of a model and adjusts the model's parameters\n",
    "\n",
    "And specifically for Pytorch, we need:\n",
    " - Training loop\n",
    " - Testing loop"
   ]
  },
  {
   "cell_type": "code",
   "execution_count": 15,
   "id": "4b43851e-6880-4ffe-a523-55482657b4cf",
   "metadata": {},
   "outputs": [
    {
     "data": {
      "text/plain": [
       "OrderedDict([('weights', tensor([0.3367])), ('bias', tensor([0.1288]))])"
      ]
     },
     "execution_count": 15,
     "metadata": {},
     "output_type": "execute_result"
    }
   ],
   "source": [
    "model_0.state_dict() # checkout model parameters"
   ]
  },
  {
   "cell_type": "code",
   "execution_count": 16,
   "id": "4ea50a90-86a0-44ba-8455-207fc4b8f5be",
   "metadata": {},
   "outputs": [],
   "source": [
    "# setup the loss function\n",
    "loss_fun = nn.L1Loss()\n",
    "\n",
    "# setup an optimizer -> Stockastic gradient descent\n",
    "optimizer = torch.optim.SGD(params=model_0.parameters(), lr=0.01)"
   ]
  },
  {
   "cell_type": "markdown",
   "id": "d60d5262-14cc-406b-9c8b-b73357487c87",
   "metadata": {},
   "source": [
    "**Building a training loop and testing loop**\n",
    "A couple of things we need in a training loop:\n",
    "\n",
    "0. Loop through the data.\n",
    "1. Forward propagation into the network.\n",
    "2. Calculate the loss.(compare forward propagation predictions to actual labels)\n",
    "3. Optimizer zero grad.\n",
    "4. Loss backward - back propagation (dL/dw)\n",
    "5. Optimizer step - use the optimizer to adjust our model's parameters to try to improve the loss (gradient descent)"
   ]
  },
  {
   "cell_type": "code",
   "execution_count": 17,
   "id": "a2ae7252-156e-476b-9557-d1d99eaf2db9",
   "metadata": {},
   "outputs": [],
   "source": [
    "epoch_count = []\n",
    "loss_values = []\n",
    "test_loss_values = []"
   ]
  },
  {
   "cell_type": "code",
   "execution_count": 18,
   "id": "304de6b7-dae5-4131-8eb8-bca82322265a",
   "metadata": {},
   "outputs": [
    {
     "name": "stdout",
     "output_type": "stream",
     "text": [
      "Loss: 0.31288138031959534\n",
      "Epoch: 0 | Loss: 0.31288138031959534 | Test loss 0.48106518387794495\n",
      "Loss: 0.3013603389263153\n",
      "Loss: 0.28983935713768005\n",
      "Loss: 0.2783183455467224\n",
      "Loss: 0.26679736375808716\n",
      "Loss: 0.2552763521671295\n",
      "Loss: 0.24375534057617188\n",
      "Loss: 0.23223432898521423\n",
      "Loss: 0.22071333229541779\n",
      "Loss: 0.20919232070446014\n",
      "Loss: 0.1976713240146637\n",
      "Epoch: 10 | Loss: 0.1976713240146637 | Test loss 0.3463551998138428\n",
      "Loss: 0.18615034222602844\n",
      "Loss: 0.1746293306350708\n",
      "Loss: 0.16310831904411316\n",
      "Loss: 0.1515873372554779\n",
      "Loss: 0.14006635546684265\n",
      "Loss: 0.1285453587770462\n",
      "Loss: 0.11702437698841095\n",
      "Loss: 0.1060912236571312\n",
      "Loss: 0.09681284427642822\n",
      "Loss: 0.08908725529909134\n",
      "Epoch: 20 | Loss: 0.08908725529909134 | Test loss 0.21729660034179688\n",
      "Loss: 0.08227583020925522\n",
      "Loss: 0.07638873159885406\n",
      "Loss: 0.07160007208585739\n",
      "Loss: 0.06747635453939438\n",
      "Loss: 0.06395438313484192\n",
      "Loss: 0.06097004935145378\n",
      "Loss: 0.05845819041132927\n",
      "Loss: 0.05635259300470352\n",
      "Loss: 0.0545857772231102\n",
      "Loss: 0.053148526698350906\n",
      "Epoch: 30 | Loss: 0.053148526698350906 | Test loss 0.14464017748832703\n",
      "Loss: 0.05181945487856865\n",
      "Loss: 0.05069301277399063\n",
      "Loss: 0.0498228520154953\n",
      "Loss: 0.04895269125699997\n",
      "Loss: 0.04819351062178612\n",
      "Loss: 0.047531817108392715\n",
      "Loss: 0.04692792519927025\n",
      "Loss: 0.04642331600189209\n",
      "Loss: 0.04591871052980423\n",
      "Loss: 0.04543796554207802\n",
      "Epoch: 40 | Loss: 0.04543796554207802 | Test loss 0.11360953003168106\n",
      "Loss: 0.04503796249628067\n",
      "Loss: 0.04463795945048332\n",
      "Loss: 0.04423796385526657\n",
      "Loss: 0.04383796453475952\n",
      "Loss: 0.04343796148896217\n",
      "Loss: 0.043074630200862885\n",
      "Loss: 0.04272563382983208\n",
      "Loss: 0.04237663000822067\n",
      "Loss: 0.04202762991189957\n",
      "Loss: 0.04167863354086876\n",
      "Epoch: 50 | Loss: 0.04167863354086876 | Test loss 0.09919948130846024\n",
      "Loss: 0.04132963344454765\n",
      "Loss: 0.04098063334822655\n",
      "Loss: 0.04063162952661514\n",
      "Loss: 0.040282636880874634\n",
      "Loss: 0.039933640509843826\n",
      "Loss: 0.03958464413881302\n",
      "Loss: 0.03923564404249191\n",
      "Loss: 0.03888664394617081\n",
      "Loss: 0.0385376438498497\n",
      "Loss: 0.03818932920694351\n",
      "Epoch: 60 | Loss: 0.03818932920694351 | Test loss 0.08886633068323135\n",
      "Loss: 0.03785243630409241\n",
      "Loss: 0.0375034399330616\n",
      "Loss: 0.037164121866226196\n",
      "Loss: 0.03681822493672371\n",
      "Loss: 0.03647511452436447\n",
      "Loss: 0.03613303601741791\n",
      "Loss: 0.03578609973192215\n",
      "Loss: 0.03544783592224121\n",
      "Loss: 0.035098835825920105\n",
      "Loss: 0.03476089984178543\n",
      "Epoch: 70 | Loss: 0.03476089984178543 | Test loss 0.0805937647819519\n",
      "Loss: 0.03441363573074341\n",
      "Loss: 0.03407188132405281\n",
      "Loss: 0.03372843936085701\n",
      "Loss: 0.03338287025690079\n",
      "Loss: 0.033043231815099716\n",
      "Loss: 0.03269423171877861\n",
      "Loss: 0.032357655465602875\n",
      "Loss: 0.03200903534889221\n",
      "Loss: 0.03166864812374115\n",
      "Loss: 0.03132382780313492\n",
      "Epoch: 80 | Loss: 0.03132382780313492 | Test loss 0.07232122868299484\n",
      "Loss: 0.030979642644524574\n",
      "Loss: 0.030638623982667923\n",
      "Loss: 0.0302906334400177\n",
      "Loss: 0.029953425750136375\n",
      "Loss: 0.02960442565381527\n",
      "Loss: 0.029265418648719788\n",
      "Loss: 0.028919223695993423\n",
      "Loss: 0.028576409444212914\n",
      "Loss: 0.028234025463461876\n",
      "Loss: 0.02788739837706089\n",
      "Epoch: 90 | Loss: 0.02788739837706089 | Test loss 0.06473556160926819\n",
      "Loss: 0.02754882536828518\n",
      "Loss: 0.027199819684028625\n",
      "Loss: 0.026862185448408127\n",
      "Loss: 0.02651461586356163\n",
      "Loss: 0.026173178106546402\n",
      "Loss: 0.025829419493675232\n",
      "Loss: 0.02548416517674923\n",
      "Loss: 0.025144213810563087\n",
      "Loss: 0.02479521557688713\n",
      "Loss: 0.024458957836031914\n",
      "Epoch: 100 | Loss: 0.024458957836031914 | Test loss 0.05646304413676262\n",
      "Loss: 0.024110013619065285\n",
      "Loss: 0.02376994863152504\n",
      "Loss: 0.02342480979859829\n",
      "Loss: 0.023080935701727867\n",
      "Loss: 0.022739607840776443\n",
      "Loss: 0.022391926497220993\n",
      "Loss: 0.022054409608244896\n",
      "Loss: 0.02170540764927864\n",
      "Loss: 0.021366719156503677\n",
      "Loss: 0.021020207554101944\n",
      "Epoch: 110 | Loss: 0.021020207554101944 | Test loss 0.04819049686193466\n",
      "Loss: 0.020677709951996803\n",
      "Loss: 0.02033500373363495\n",
      "Loss: 0.01998869702219963\n",
      "Loss: 0.019649803638458252\n",
      "Loss: 0.019300809130072594\n",
      "Loss: 0.018963487818837166\n",
      "Loss: 0.01861560344696045\n",
      "Loss: 0.018274478614330292\n",
      "Loss: 0.017930403351783752\n",
      "Loss: 0.01758546568453312\n",
      "Epoch: 120 | Loss: 0.01758546568453312 | Test loss 0.04060482233762741\n",
      "Loss: 0.017245199531316757\n",
      "Loss: 0.016896454617381096\n",
      "Loss: 0.01656000316143036\n",
      "Loss: 0.016210997477173805\n",
      "Loss: 0.01587124727666378\n",
      "Loss: 0.015525798313319683\n",
      "Loss: 0.015182236209511757\n",
      "Loss: 0.014840595424175262\n",
      "Loss: 0.01449323259294033\n",
      "Loss: 0.014155393466353416\n",
      "Epoch: 130 | Loss: 0.014155393466353416 | Test loss 0.03233227878808975\n",
      "Loss: 0.013806397095322609\n",
      "Loss: 0.013468016870319843\n",
      "Loss: 0.013121193274855614\n",
      "Loss: 0.01277900766581297\n",
      "Loss: 0.012435992248356342\n",
      "Loss: 0.01208999752998352\n",
      "Loss: 0.011750795878469944\n",
      "Loss: 0.011401787400245667\n",
      "Loss: 0.011064787395298481\n",
      "Loss: 0.010716589167714119\n",
      "Epoch: 140 | Loss: 0.010716589167714119 | Test loss 0.024059748277068138\n",
      "Loss: 0.010375778190791607\n",
      "Loss: 0.010031387209892273\n",
      "Loss: 0.009686763398349285\n",
      "Loss: 0.009346187114715576\n",
      "Loss: 0.008997755125164986\n",
      "Loss: 0.008660981431603432\n",
      "Loss: 0.008311985060572624\n",
      "Loss: 0.007972544990479946\n",
      "Loss: 0.007626785431057215\n",
      "Loss: 0.0072835334576666355\n",
      "Epoch: 150 | Loss: 0.0072835334576666355 | Test loss 0.016474086791276932\n",
      "Loss: 0.006941580679267645\n",
      "Loss: 0.006594526115804911\n",
      "Loss: 0.006256377790123224\n",
      "Loss: 0.005907376762479544\n",
      "Loss: 0.005569315515458584\n",
      "Loss: 0.005222178064286709\n",
      "Loss: 0.004880306776612997\n",
      "Loss: 0.004536976106464863\n",
      "Loss: 0.00419129803776741\n",
      "Loss: 0.0038517764769494534\n",
      "Epoch: 160 | Loss: 0.0038517764769494534 | Test loss 0.008201557211577892\n",
      "Loss: 0.0035027749836444855\n",
      "Loss: 0.0031660839449614286\n",
      "Loss: 0.002817571861669421\n",
      "Loss: 0.0024770735763013363\n",
      "Loss: 0.0021323717664927244\n",
      "Loss: 0.0017880648374557495\n",
      "Loss: 0.0014518328243866563\n",
      "Loss: 0.0011887758737429976\n",
      "Loss: 0.0025885067880153656\n",
      "Loss: 0.008932482451200485\n",
      "Epoch: 170 | Loss: 0.008932482451200485 | Test loss 0.005023092031478882\n",
      "Loss: 0.0025885067880153656\n",
      "Loss: 0.008932482451200485\n",
      "Loss: 0.0025885067880153656\n",
      "Loss: 0.008932482451200485\n",
      "Loss: 0.0025885067880153656\n",
      "Loss: 0.008932482451200485\n",
      "Loss: 0.0025885067880153656\n",
      "Loss: 0.008932482451200485\n",
      "Loss: 0.0025885067880153656\n",
      "Loss: 0.008932482451200485\n",
      "Epoch: 180 | Loss: 0.008932482451200485 | Test loss 0.005023092031478882\n",
      "Loss: 0.0025885067880153656\n",
      "Loss: 0.008932482451200485\n",
      "Loss: 0.0025885067880153656\n",
      "Loss: 0.008932482451200485\n",
      "Loss: 0.0025885067880153656\n",
      "Loss: 0.008932482451200485\n",
      "Loss: 0.0025885067880153656\n",
      "Loss: 0.008932482451200485\n",
      "Loss: 0.0025885067880153656\n",
      "Loss: 0.008932482451200485\n",
      "Epoch: 190 | Loss: 0.008932482451200485 | Test loss 0.005023092031478882\n",
      "Loss: 0.0025885067880153656\n",
      "Loss: 0.008932482451200485\n",
      "Loss: 0.0025885067880153656\n",
      "Loss: 0.008932482451200485\n",
      "Loss: 0.0025885067880153656\n",
      "Loss: 0.008932482451200485\n",
      "Loss: 0.0025885067880153656\n",
      "Loss: 0.008932482451200485\n",
      "Loss: 0.0025885067880153656\n"
     ]
    }
   ],
   "source": [
    "# epoch - one loop through the data - hyper parameters\n",
    "epochs = 200\n",
    "for epoch in range(epochs):\n",
    "    model_0.train() # enter the train mode\n",
    "    # forward propagation\n",
    "    y_pred = model_0(X_train)\n",
    "    # calculate the loss\n",
    "    loss = loss_fun(y_pred, y_train)\n",
    "    print(f\"Loss: {loss}\")\n",
    "    # optimizer zero grad\n",
    "    optimizer.zero_grad()\n",
    "    # back propagation\n",
    "    loss.backward()\n",
    "    # gradient descent\n",
    "    optimizer.step()\n",
    "    # turnoff the training mode\n",
    "    model_0.eval()\n",
    "    \n",
    "    with torch.inference_mode():\n",
    "        test_preds = model_0(X_test)\n",
    "        test_loss = loss_fun(test_preds, y_test)\n",
    "        \n",
    "    loss_values.append(loss)\n",
    "    test_loss_values.append(test_loss)\n",
    "    epoch_count.append(epoch)\n",
    "    if epoch % 10 == 0:\n",
    "        print(f\"Epoch: {epoch} | Loss: {loss} | Test loss {test_loss}\")\n",
    "        "
   ]
  },
  {
   "cell_type": "code",
   "execution_count": 19,
   "id": "6d75d921-82ac-4eb1-bb69-bca1c05662b6",
   "metadata": {},
   "outputs": [
    {
     "data": {
      "text/plain": [
       "(array([0.31288138, 0.30136034, 0.28983936, 0.27831835, 0.26679736,\n",
       "        0.25527635, 0.24375534, 0.23223433, 0.22071333, 0.20919232,\n",
       "        0.19767132, 0.18615034, 0.17462933, 0.16310832, 0.15158734,\n",
       "        0.14006636, 0.12854536, 0.11702438, 0.10609122, 0.09681284,\n",
       "        0.08908726, 0.08227583, 0.07638873, 0.07160007, 0.06747635,\n",
       "        0.06395438, 0.06097005, 0.05845819, 0.05635259, 0.05458578,\n",
       "        0.05314853, 0.05181945, 0.05069301, 0.04982285, 0.04895269,\n",
       "        0.04819351, 0.04753182, 0.04692793, 0.04642332, 0.04591871,\n",
       "        0.04543797, 0.04503796, 0.04463796, 0.04423796, 0.04383796,\n",
       "        0.04343796, 0.04307463, 0.04272563, 0.04237663, 0.04202763,\n",
       "        0.04167863, 0.04132963, 0.04098063, 0.04063163, 0.04028264,\n",
       "        0.03993364, 0.03958464, 0.03923564, 0.03888664, 0.03853764,\n",
       "        0.03818933, 0.03785244, 0.03750344, 0.03716412, 0.03681822,\n",
       "        0.03647511, 0.03613304, 0.0357861 , 0.03544784, 0.03509884,\n",
       "        0.0347609 , 0.03441364, 0.03407188, 0.03372844, 0.03338287,\n",
       "        0.03304323, 0.03269423, 0.03235766, 0.03200904, 0.03166865,\n",
       "        0.03132383, 0.03097964, 0.03063862, 0.03029063, 0.02995343,\n",
       "        0.02960443, 0.02926542, 0.02891922, 0.02857641, 0.02823403,\n",
       "        0.0278874 , 0.02754883, 0.02719982, 0.02686219, 0.02651462,\n",
       "        0.02617318, 0.02582942, 0.02548417, 0.02514421, 0.02479522,\n",
       "        0.02445896, 0.02411001, 0.02376995, 0.02342481, 0.02308094,\n",
       "        0.02273961, 0.02239193, 0.02205441, 0.02170541, 0.02136672,\n",
       "        0.02102021, 0.02067771, 0.020335  , 0.0199887 , 0.0196498 ,\n",
       "        0.01930081, 0.01896349, 0.0186156 , 0.01827448, 0.0179304 ,\n",
       "        0.01758547, 0.0172452 , 0.01689645, 0.01656   , 0.016211  ,\n",
       "        0.01587125, 0.0155258 , 0.01518224, 0.0148406 , 0.01449323,\n",
       "        0.01415539, 0.0138064 , 0.01346802, 0.01312119, 0.01277901,\n",
       "        0.01243599, 0.01209   , 0.0117508 , 0.01140179, 0.01106479,\n",
       "        0.01071659, 0.01037578, 0.01003139, 0.00968676, 0.00934619,\n",
       "        0.00899776, 0.00866098, 0.00831199, 0.00797254, 0.00762679,\n",
       "        0.00728353, 0.00694158, 0.00659453, 0.00625638, 0.00590738,\n",
       "        0.00556932, 0.00522218, 0.00488031, 0.00453698, 0.0041913 ,\n",
       "        0.00385178, 0.00350277, 0.00316608, 0.00281757, 0.00247707,\n",
       "        0.00213237, 0.00178806, 0.00145183, 0.00118878, 0.00258851,\n",
       "        0.00893248, 0.00258851, 0.00893248, 0.00258851, 0.00893248,\n",
       "        0.00258851, 0.00893248, 0.00258851, 0.00893248, 0.00258851,\n",
       "        0.00893248, 0.00258851, 0.00893248, 0.00258851, 0.00893248,\n",
       "        0.00258851, 0.00893248, 0.00258851, 0.00893248, 0.00258851,\n",
       "        0.00893248, 0.00258851, 0.00893248, 0.00258851, 0.00893248,\n",
       "        0.00258851, 0.00893248, 0.00258851, 0.00893248, 0.00258851],\n",
       "       dtype=float32),\n",
       " array([0.48106518, 0.4675942 , 0.45412317, 0.4406522 , 0.42718118,\n",
       "        0.4137102 , 0.40023917, 0.3867682 , 0.3732972 , 0.3598262 ,\n",
       "        0.3463552 , 0.33288422, 0.31941321, 0.30594224, 0.29247123,\n",
       "        0.27900025, 0.26552927, 0.2520583 , 0.23959616, 0.22817862,\n",
       "        0.2172966 , 0.2069591 , 0.19773726, 0.18908668, 0.18101618,\n",
       "        0.1735347 , 0.16665109, 0.16037428, 0.15471318, 0.1496767 ,\n",
       "        0.14464018, 0.14023718, 0.13647659, 0.13271599, 0.12895536,\n",
       "        0.1258461 , 0.1227368 , 0.1202877 , 0.11783861, 0.11538954,\n",
       "        0.11360953, 0.11182952, 0.11004953, 0.10826953, 0.10648952,\n",
       "        0.10470951, 0.10360751, 0.10250549, 0.1014035 , 0.10030148,\n",
       "        0.09919948, 0.09809747, 0.09699546, 0.09589346, 0.09479147,\n",
       "        0.09368948, 0.09258746, 0.09148546, 0.09038345, 0.08928144,\n",
       "        0.08886633, 0.08776431, 0.08666229, 0.08624718, 0.08514519,\n",
       "        0.08473004, 0.08362804, 0.08321291, 0.0821109 , 0.0810089 ,\n",
       "        0.08059376, 0.07949176, 0.07907666, 0.07797462, 0.07755952,\n",
       "        0.07645749, 0.07535549, 0.07494037, 0.07383837, 0.07342324,\n",
       "        0.07232123, 0.0719061 , 0.07080409, 0.07038897, 0.06928696,\n",
       "        0.06818496, 0.06776984, 0.06666783, 0.0662527 , 0.06515069,\n",
       "        0.06473556, 0.06363358, 0.06253157, 0.06211644, 0.06101443,\n",
       "        0.06059931, 0.0594973 , 0.05908217, 0.05798017, 0.05687815,\n",
       "        0.05646304, 0.05536102, 0.0549459 , 0.05384389, 0.05342877,\n",
       "        0.05232676, 0.05191164, 0.05080963, 0.04970762, 0.04929249,\n",
       "        0.0481905 , 0.04777536, 0.04667336, 0.04625823, 0.04515622,\n",
       "        0.04405423, 0.0436391 , 0.04253707, 0.04212197, 0.04101996,\n",
       "        0.04060482, 0.03950282, 0.03908769, 0.0379857 , 0.03688369,\n",
       "        0.03646854, 0.03536654, 0.03495143, 0.03384943, 0.03343429,\n",
       "        0.03233228, 0.03123028, 0.03081515, 0.02971315, 0.02929801,\n",
       "        0.02819602, 0.0277809 , 0.02667888, 0.02557687, 0.02516175,\n",
       "        0.02405975, 0.02364462, 0.02254261, 0.02212749, 0.02102548,\n",
       "        0.02061036, 0.01950834, 0.01840635, 0.01799122, 0.01688922,\n",
       "        0.01647409, 0.01537208, 0.01495696, 0.01385495, 0.01275294,\n",
       "        0.01233782, 0.01123582, 0.01082069, 0.00971868, 0.00930355,\n",
       "        0.00820156, 0.00709954, 0.00668442, 0.00558241, 0.00516729,\n",
       "        0.00406528, 0.00365015, 0.00187016, 0.00502309, 0.00844789,\n",
       "        0.00502309, 0.00844789, 0.00502309, 0.00844789, 0.00502309,\n",
       "        0.00844789, 0.00502309, 0.00844789, 0.00502309, 0.00844789,\n",
       "        0.00502309, 0.00844789, 0.00502309, 0.00844789, 0.00502309,\n",
       "        0.00844789, 0.00502309, 0.00844789, 0.00502309, 0.00844789,\n",
       "        0.00502309, 0.00844789, 0.00502309, 0.00844789, 0.00502309,\n",
       "        0.00844789, 0.00502309, 0.00844789, 0.00502309, 0.00844789],\n",
       "       dtype=float32))"
      ]
     },
     "execution_count": 19,
     "metadata": {},
     "output_type": "execute_result"
    }
   ],
   "source": [
    "import numpy\n",
    "torch.tensor(loss_values).cpu().numpy(), torch.tensor(test_loss_values).cpu().numpy()"
   ]
  },
  {
   "cell_type": "code",
   "execution_count": 20,
   "id": "e55e174b-d7a7-44ff-aa46-e0219bfa74a1",
   "metadata": {},
   "outputs": [
    {
     "data": {
      "text/plain": [
       "(0.7, 0.3)"
      ]
     },
     "execution_count": 20,
     "metadata": {},
     "output_type": "execute_result"
    }
   ],
   "source": [
    "weight, bias"
   ]
  },
  {
   "cell_type": "code",
   "execution_count": 21,
   "id": "082d8752-beac-43ca-9ada-43d8ae856e3c",
   "metadata": {},
   "outputs": [
    {
     "data": {
      "text/plain": [
       "OrderedDict([('weights', tensor([0.6990])), ('bias', tensor([0.3093]))])"
      ]
     },
     "execution_count": 21,
     "metadata": {},
     "output_type": "execute_result"
    }
   ],
   "source": [
    "model_0.state_dict()"
   ]
  },
  {
   "cell_type": "code",
   "execution_count": 23,
   "id": "8289b658-7dc9-4c94-b843-aea95f0de4e2",
   "metadata": {},
   "outputs": [
    {
     "data": {
      "image/png": "[encoded data removed]",
      "text/plain": [
       "<Figure size 640x480 with 1 Axes>"
      ]
     },
     "metadata": {},
     "output_type": "display_data"
    }
   ],
   "source": [
    "plt.plot(torch.tensor(epoch_count).cpu().numpy(), torch.tensor(loss_values).cpu().numpy(), label=\"Train loss\")\n",
    "plt.plot(torch.tensor(epoch_count).cpu().numpy(), torch.tensor(test_loss_values).cpu().numpy(), label=\"Test loss\")\n",
    "plt.title(\"Training and test loss curves\")\n",
    "plt.ylabel(\"Loss\")\n",
    "plt.xlabel(\"Epochs\")\n",
    "plt.legend();"
   ]
  },
  {
   "cell_type": "code",
   "execution_count": null,
   "id": "71b250b8-d817-40c9-9914-0c0f409fda58",
   "metadata": {},
   "outputs": [],
   "source": []
  }
 ],
 "metadata": {
  "kernelspec": {
   "display_name": "Python 3 (ipykernel)",
   "language": "python",
   "name": "python3"
  },
  "language_info": {
   "codemirror_mode": {
    "name": "ipython",
    "version": 3
   },
   "file_extension": ".py",
   "mimetype": "text/x-python",
   "name": "python",
   "nbconvert_exporter": "python",
   "pygments_lexer": "ipython3",
   "version": "3.10.12"
  }
 },
 "nbformat": 4,
 "nbformat_minor": 5
}
