{
 "cells": [
  {
   "cell_type": "code",
   "execution_count": 1,
   "id": "9d4cd84c-3203-4032-84b2-39419233a8ce",
   "metadata": {},
   "outputs": [
    {
     "name": "stdout",
     "output_type": "stream",
     "text": [
      "Wed Oct  4 23:36:42 2023       \r\n",
      "+---------------------------------------------------------------------------------------+\r\n",
      "| NVIDIA-SMI 535.113.01             Driver Version: 535.113.01   CUDA Version: 12.2     |\r\n",
      "|-----------------------------------------+----------------------+----------------------+\r\n",
      "| GPU  Name                 Persistence-M | Bus-Id        Disp.A | Volatile Uncorr. ECC |\r\n",
      "| Fan  Temp   Perf          Pwr:Usage/Cap |         Memory-Usage | GPU-Util  Compute M. |\r\n",
      "|                                         |                      |               MIG M. |\r\n",
      "|=========================================+======================+======================|\r\n",
      "|   0  NVIDIA GeForce RTX 3090        Off | 00000000:01:00.0 Off |                  N/A |\r\n",
      "|  0%   44C    P8              17W / 350W |  20883MiB / 24576MiB |      0%      Default |\r\n",
      "|                                         |                      |                  N/A |\r\n",
      "+-----------------------------------------+----------------------+----------------------+\r\n",
      "                                                                                         \r\n",
      "+---------------------------------------------------------------------------------------+\r\n",
      "| Processes:                                                                            |\r\n",
      "|  GPU   GI   CI        PID   Type   Process name                            GPU Memory |\r\n",
      "|        ID   ID                                                             Usage      |\r\n",
      "|=======================================================================================|\r\n",
      "|    0   N/A  N/A     12166      C   python3                                    6320MiB |\r\n",
      "|    0   N/A  N/A     27878      C   python                                    14552MiB |\r\n",
      "+---------------------------------------------------------------------------------------+\r\n"
     ]
    }
   ],
   "source": [
    "!nvidia-smi"
   ]
  },
  {
   "cell_type": "markdown",
   "id": "3084f53a-3008-48b4-b738-9d00245d57bf",
   "metadata": {},
   "source": [
    "# Pytorch fundamentals "
   ]
  },
  {
   "cell_type": "markdown",
   "id": "518016f1-148b-4b56-8de7-70384a8db2e6",
   "metadata": {},
   "source": [
    "**Source:** https://www.learnpytorch.io/00_pytorch_fundamentals/"
   ]
  },
  {
   "cell_type": "code",
   "execution_count": 2,
   "id": "cade2219-0541-42da-b172-62ff00730bef",
   "metadata": {},
   "outputs": [],
   "source": [
    "import torch"
   ]
  },
  {
   "cell_type": "code",
   "execution_count": 3,
   "id": "60325279-631c-4361-94c1-47a8ad177080",
   "metadata": {},
   "outputs": [],
   "source": [
    "import pandas as pd"
   ]
  },
  {
   "cell_type": "code",
   "execution_count": 4,
   "id": "f8ae1283-4d24-404a-be97-831647c6c820",
   "metadata": {},
   "outputs": [],
   "source": [
    "import numpy as np"
   ]
  },
  {
   "cell_type": "code",
   "execution_count": 5,
   "id": "9529d688-f5d3-4838-93aa-7d9f18d35b5a",
   "metadata": {},
   "outputs": [],
   "source": [
    "import matplotlib.pyplot as plt"
   ]
  },
  {
   "cell_type": "code",
   "execution_count": 6,
   "id": "83d31be5-7160-4418-aeab-a57a78e7ab73",
   "metadata": {},
   "outputs": [
    {
     "name": "stdout",
     "output_type": "stream",
     "text": [
      "2.0.1\n"
     ]
    }
   ],
   "source": [
    "print(torch.__version__)"
   ]
  },
  {
   "cell_type": "code",
   "execution_count": 7,
   "id": "fceb15e9-7455-41a1-9648-cc56c0c65091",
   "metadata": {},
   "outputs": [],
   "source": [
    "scalars = torch.tensor(9)"
   ]
  },
  {
   "cell_type": "code",
   "execution_count": 8,
   "id": "686078f3",
   "metadata": {},
   "outputs": [
    {
     "data": {
      "text/plain": [
       "tensor(9)"
      ]
     },
     "execution_count": 8,
     "metadata": {},
     "output_type": "execute_result"
    }
   ],
   "source": [
    "scalars"
   ]
  },
  {
   "cell_type": "code",
   "execution_count": 9,
   "id": "b4df5c25",
   "metadata": {},
   "outputs": [],
   "source": [
    "# details of a scalar"
   ]
  },
  {
   "cell_type": "code",
   "execution_count": 10,
   "id": "5ce48ff7",
   "metadata": {},
   "outputs": [],
   "source": [
    "# dimension"
   ]
  },
  {
   "cell_type": "code",
   "execution_count": 11,
   "id": "b6dae9ba",
   "metadata": {},
   "outputs": [
    {
     "data": {
      "text/plain": [
       "0"
      ]
     },
     "execution_count": 11,
     "metadata": {},
     "output_type": "execute_result"
    }
   ],
   "source": [
    "scalars.ndim"
   ]
  },
  {
   "cell_type": "code",
   "execution_count": 12,
   "id": "f49d8684",
   "metadata": {},
   "outputs": [],
   "source": [
    "# get tensor back a python int"
   ]
  },
  {
   "cell_type": "code",
   "execution_count": 13,
   "id": "7a4818fe",
   "metadata": {},
   "outputs": [
    {
     "data": {
      "text/plain": [
       "9"
      ]
     },
     "execution_count": 13,
     "metadata": {},
     "output_type": "execute_result"
    }
   ],
   "source": [
    "scalars.item()"
   ]
  },
  {
   "cell_type": "code",
   "execution_count": 14,
   "id": "e8acf7aa",
   "metadata": {},
   "outputs": [],
   "source": [
    "# vector"
   ]
  },
  {
   "cell_type": "code",
   "execution_count": 15,
   "id": "97a1c612",
   "metadata": {},
   "outputs": [],
   "source": [
    "vector = torch.tensor([7, 7])"
   ]
  },
  {
   "cell_type": "code",
   "execution_count": 16,
   "id": "7a83cf77",
   "metadata": {},
   "outputs": [
    {
     "data": {
      "text/plain": [
       "1"
      ]
     },
     "execution_count": 16,
     "metadata": {},
     "output_type": "execute_result"
    }
   ],
   "source": [
    "vector.ndim"
   ]
  },
  {
   "cell_type": "code",
   "execution_count": 17,
   "id": "e9399830",
   "metadata": {},
   "outputs": [
    {
     "data": {
      "text/plain": [
       "torch.Size([2])"
      ]
     },
     "execution_count": 17,
     "metadata": {},
     "output_type": "execute_result"
    }
   ],
   "source": [
    "vector.shape"
   ]
  },
  {
   "cell_type": "code",
   "execution_count": 18,
   "id": "83a363a3",
   "metadata": {},
   "outputs": [],
   "source": [
    "# matrix"
   ]
  },
  {
   "cell_type": "code",
   "execution_count": 19,
   "id": "d1b9b94d",
   "metadata": {},
   "outputs": [],
   "source": [
    "matrix = torch.tensor([[7, 9], [8, 10]])"
   ]
  },
  {
   "cell_type": "code",
   "execution_count": 20,
   "id": "d6f37d2e",
   "metadata": {},
   "outputs": [
    {
     "data": {
      "text/plain": [
       "tensor([[ 7,  9],\n",
       "        [ 8, 10]])"
      ]
     },
     "execution_count": 20,
     "metadata": {},
     "output_type": "execute_result"
    }
   ],
   "source": [
    "matrix"
   ]
  },
  {
   "cell_type": "code",
   "execution_count": 21,
   "id": "639834f1",
   "metadata": {},
   "outputs": [
    {
     "data": {
      "text/plain": [
       "2"
      ]
     },
     "execution_count": 21,
     "metadata": {},
     "output_type": "execute_result"
    }
   ],
   "source": [
    "matrix.ndim"
   ]
  },
  {
   "cell_type": "code",
   "execution_count": 22,
   "id": "26813738",
   "metadata": {},
   "outputs": [
    {
     "data": {
      "text/plain": [
       "torch.Size([2, 2])"
      ]
     },
     "execution_count": 22,
     "metadata": {},
     "output_type": "execute_result"
    }
   ],
   "source": [
    "matrix.shape"
   ]
  },
  {
   "cell_type": "code",
   "execution_count": 23,
   "id": "fd4095b1",
   "metadata": {},
   "outputs": [],
   "source": [
    "# tensor"
   ]
  },
  {
   "cell_type": "code",
   "execution_count": 24,
   "id": "f10726bf",
   "metadata": {},
   "outputs": [],
   "source": [
    "t = torch.tensor([[[1, 2, 3], [4, 5, 6], [7, 8, 9]]])"
   ]
  },
  {
   "cell_type": "code",
   "execution_count": 25,
   "id": "92116d19",
   "metadata": {},
   "outputs": [
    {
     "data": {
      "text/plain": [
       "torch.Size([1, 3, 3])"
      ]
     },
     "execution_count": 25,
     "metadata": {},
     "output_type": "execute_result"
    }
   ],
   "source": [
    "t.shape"
   ]
  },
  {
   "cell_type": "code",
   "execution_count": 26,
   "id": "aff8ebf3",
   "metadata": {},
   "outputs": [
    {
     "data": {
      "text/plain": [
       "3"
      ]
     },
     "execution_count": 26,
     "metadata": {},
     "output_type": "execute_result"
    }
   ],
   "source": [
    "t.ndim"
   ]
  },
  {
   "cell_type": "code",
   "execution_count": 27,
   "id": "e30acfbd",
   "metadata": {},
   "outputs": [],
   "source": [
    "## random tensors"
   ]
  },
  {
   "cell_type": "code",
   "execution_count": 28,
   "id": "ca2dcae0",
   "metadata": {},
   "outputs": [
    {
     "data": {
      "text/plain": [
       "tensor([[0.2776, 0.7345, 0.6426, 0.6741],\n",
       "        [0.6767, 0.0910, 0.4502, 0.9631],\n",
       "        [0.4463, 0.5526, 0.9087, 0.1268]])"
      ]
     },
     "execution_count": 28,
     "metadata": {},
     "output_type": "execute_result"
    }
   ],
   "source": [
    "torch.rand(3, 4)"
   ]
  },
  {
   "cell_type": "code",
   "execution_count": 29,
   "id": "86cfba59",
   "metadata": {},
   "outputs": [
    {
     "data": {
      "text/plain": [
       "tensor([[0., 0., 0., 0.],\n",
       "        [0., 0., 0., 0.],\n",
       "        [0., 0., 0., 0.]])"
      ]
     },
     "execution_count": 29,
     "metadata": {},
     "output_type": "execute_result"
    }
   ],
   "source": [
    "torch.zeros(size=(3,4))"
   ]
  },
  {
   "cell_type": "code",
   "execution_count": 30,
   "id": "761951c5",
   "metadata": {},
   "outputs": [],
   "source": [
    "# ranges"
   ]
  },
  {
   "cell_type": "code",
   "execution_count": 33,
   "id": "cc83ad34",
   "metadata": {},
   "outputs": [
    {
     "data": {
      "text/plain": [
       "tensor([ 1,  2,  3,  4,  5,  6,  7,  8,  9, 10, 11])"
      ]
     },
     "execution_count": 33,
     "metadata": {},
     "output_type": "execute_result"
    }
   ],
   "source": [
    "torch.arange(1, 12)"
   ]
  },
  {
   "cell_type": "code",
   "execution_count": 34,
   "id": "1fb188e9",
   "metadata": {},
   "outputs": [
    {
     "data": {
      "text/plain": [
       "tensor([1, 2, 3, 4, 5, 6, 7, 8, 9])"
      ]
     },
     "execution_count": 34,
     "metadata": {},
     "output_type": "execute_result"
    }
   ],
   "source": [
    "torch.arange(start=1, end=10, step=1)"
   ]
  },
  {
   "cell_type": "code",
   "execution_count": 35,
   "id": "7f3f1bfc",
   "metadata": {},
   "outputs": [
    {
     "data": {
      "text/plain": [
       "tensor([0, 0, 0, 0, 0, 0, 0, 0, 0])"
      ]
     },
     "execution_count": 35,
     "metadata": {},
     "output_type": "execute_result"
    }
   ],
   "source": [
    "torch.zeros_like(torch.arange(start=1, end=10, step=1))"
   ]
  },
  {
   "cell_type": "code",
   "execution_count": 36,
   "id": "71b143aa",
   "metadata": {},
   "outputs": [],
   "source": [
    "### tensor datatypes"
   ]
  },
  {
   "cell_type": "code",
   "execution_count": 37,
   "id": "9c3b204a",
   "metadata": {},
   "outputs": [
    {
     "data": {
      "text/plain": [
       "tensor([1, 3, 5])"
      ]
     },
     "execution_count": 37,
     "metadata": {},
     "output_type": "execute_result"
    }
   ],
   "source": [
    "t = torch.tensor([1, 3, 5])"
   ]
  },
  {
   "cell_type": "code",
   "execution_count": 38,
   "id": "8216e275",
   "metadata": {},
   "outputs": [
    {
     "data": {
      "text/plain": [
       "torch.int64"
      ]
     },
     "execution_count": 38,
     "metadata": {},
     "output_type": "execute_result"
    }
   ],
   "source": [
    "t.dtype"
   ]
  },
  {
   "cell_type": "code",
   "execution_count": 39,
   "id": "97d68ac5",
   "metadata": {},
   "outputs": [],
   "source": [
    "## Three errors you will meet with tensors"
   ]
  },
  {
   "cell_type": "markdown",
   "id": "0a66226d",
   "metadata": {},
   "source": [
    "1. Tensors not right datatype"
   ]
  },
  {
   "cell_type": "markdown",
   "id": "10d85abf",
   "metadata": {},
   "source": [
    "2. Tensors not right shape"
   ]
  },
  {
   "cell_type": "markdown",
   "id": "f9fc207b",
   "metadata": {},
   "source": [
    "3. Tensors not on right device"
   ]
  },
  {
   "cell_type": "code",
   "execution_count": 42,
   "id": "9714e18a",
   "metadata": {},
   "outputs": [],
   "source": [
    "ex = torch.tensor([3.0, 6.0, 9.0], dtype=None, device=\"cpu\", requires_grad=True)"
   ]
  },
  {
   "cell_type": "markdown",
   "id": "8f3a81e8",
   "metadata": {},
   "source": [
    "dtype -> what datatype\n",
    "device -> cpu cuda or else\n",
    "requires_grad -> should we track of the gradients\n"
   ]
  },
  {
   "cell_type": "code",
   "execution_count": null,
   "id": "e4d017b3",
   "metadata": {},
   "outputs": [],
   "source": []
  }
 ],
 "metadata": {
  "kernelspec": {
   "display_name": "Python 3 (ipykernel)",
   "language": "python",
   "name": "python3"
  },
  "language_info": {
   "codemirror_mode": {
    "name": "ipython",
    "version": 3
   },
   "file_extension": ".py",
   "mimetype": "text/x-python",
   "name": "python",
   "nbconvert_exporter": "python",
   "pygments_lexer": "ipython3",
   "version": "3.9.7"
  }
 },
 "nbformat": 4,
 "nbformat_minor": 5
}
